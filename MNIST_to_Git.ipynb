{
  "nbformat": 4,
  "nbformat_minor": 0,
  "metadata": {
    "colab": {
      "provenance": [],
      "include_colab_link": true
    },
    "kernelspec": {
      "name": "python3",
      "display_name": "Python 3"
    },
    "language_info": {
      "name": "python"
    },
    "accelerator": "GPU"
  },
  "cells": [
    {
      "cell_type": "markdown",
      "metadata": {
        "id": "view-in-github",
        "colab_type": "text"
      },
      "source": [
        "<a href=\"https://colab.research.google.com/github/KristinaFateyeva/simple_mnist/blob/main/MNIST_to_Git.ipynb\" target=\"_parent\"><img src=\"https://colab.research.google.com/assets/colab-badge.svg\" alt=\"Open In Colab\"/></a>"
      ]
    },
    {
      "cell_type": "code",
      "source": [
        "import numpy as np\n",
        "import pylab\n",
        "import matplotlib.pyplot as plt\n",
        "from PIL import Image\n",
        "from tensorflow.keras.datasets import mnist\n",
        "from tensorflow.keras.models import Sequential\n",
        "from tensorflow.keras.layers import Dense\n",
        "from tensorflow.keras.optimizers import Adam\n",
        "from tensorflow.keras import utils\n",
        "from tensorflow.keras.preprocessing import image"
      ],
      "metadata": {
        "id": "4dF5FRSyKWq0"
      },
      "execution_count": 2,
      "outputs": []
    },
    {
      "cell_type": "code",
      "source": [
        "(x_train, y_train), (x_test, y_test) = mnist.load_data()"
      ],
      "metadata": {
        "colab": {
          "base_uri": "https://localhost:8080/"
        },
        "id": "IW2ZRtnmt3EG",
        "outputId": "babfbe7f-c2d6-44ee-9223-86df2c1f0299"
      },
      "execution_count": 3,
      "outputs": [
        {
          "output_type": "stream",
          "name": "stdout",
          "text": [
            "Downloading data from https://storage.googleapis.com/tensorflow/tf-keras-datasets/mnist.npz\n",
            "11490434/11490434 [==============================] - 0s 0us/step\n"
          ]
        }
      ]
    },
    {
      "cell_type": "code",
      "source": [
        "x_test.shape"
      ],
      "metadata": {
        "colab": {
          "base_uri": "https://localhost:8080/"
        },
        "id": "Ir-ex-Jwt7EZ",
        "outputId": "796238ec-7e63-46b6-8f98-3af61abff190"
      },
      "execution_count": null,
      "outputs": [
        {
          "output_type": "execute_result",
          "data": {
            "text/plain": [
              "(10000, 28, 28)"
            ]
          },
          "metadata": {},
          "execution_count": 3
        }
      ]
    },
    {
      "cell_type": "code",
      "source": [
        "import random\n",
        "\n",
        "n = np.random.randint(0, 10000)\n",
        "plt.imshow(Image.fromarray(x_train[n]).convert('RGB'))\n",
        "print(f'Image #{n}:')\n",
        "plt.show()\n",
        "print('\\nAssociated number:')\n",
        "y_train[n]"
      ],
      "metadata": {
        "colab": {
          "base_uri": "https://localhost:8080/",
          "height": 499
        },
        "id": "pQXaIvVUt8xx",
        "outputId": "794f7a7d-5fd8-477f-ca33-7835c1ff099f"
      },
      "execution_count": 5,
      "outputs": [
        {
          "output_type": "stream",
          "name": "stdout",
          "text": [
            "Image #6727:\n"
          ]
        },
        {
          "output_type": "display_data",
          "data": {
            "text/plain": [
              "<Figure size 640x480 with 1 Axes>"
            ],
            "image/png": "[encoded data removed]"
          },
          "metadata": {}
        },
        {
          "output_type": "stream",
          "name": "stdout",
          "text": [
            "\n",
            "Associated number:\n"
          ]
        },
        {
          "output_type": "execute_result",
          "data": {
            "text/plain": [
              "6"
            ]
          },
          "metadata": {},
          "execution_count": 5
        }
      ]
    },
    {
      "cell_type": "code",
      "source": [
        "xtr = x_train.reshape(60000, 784)\n",
        "xtes = x_test.reshape(10000, 784)\n",
        "print(xtr.shape)\n",
        "print(xtes.shape)"
      ],
      "metadata": {
        "colab": {
          "base_uri": "https://localhost:8080/"
        },
        "id": "PLmT1mP3udr7",
        "outputId": "50b44cba-1cc7-4b33-cad2-d34f4d5fbf31"
      },
      "execution_count": null,
      "outputs": [
        {
          "output_type": "stream",
          "name": "stdout",
          "text": [
            "(60000, 784)\n",
            "(10000, 784)\n"
          ]
        }
      ]
    },
    {
      "cell_type": "code",
      "source": [
        "xtr = xtr.astype('float32')\n",
        "xtes = xtes.astype('float32')\n",
        "xtr = xtr / 255\n",
        "xtes = xtes / 255"
      ],
      "metadata": {
        "id": "Zps5LJ6RujNz"
      },
      "execution_count": null,
      "outputs": []
    },
    {
      "cell_type": "code",
      "source": [
        "ytr = utils.to_categorical(y_train, 10)\n",
        "ytes = utils.to_categorical(y_test, 10)\n",
        "print(ytes[n])"
      ],
      "metadata": {
        "colab": {
          "base_uri": "https://localhost:8080/"
        },
        "id": "gkYOlpbQuo3d",
        "outputId": "a050c92d-01d9-4fdb-ded5-b65324d4836c"
      },
      "execution_count": null,
      "outputs": [
        {
          "output_type": "stream",
          "name": "stdout",
          "text": [
            "[0. 0. 0. 0. 0. 0. 1. 0. 0. 0.]\n"
          ]
        }
      ]
    },
    {
      "cell_type": "code",
      "source": [
        "model = Sequential()\n",
        "model.add(Dense(800, input_dim=784, activation='relu'))\n",
        "model.add(Dense(400, activation='relu'))\n",
        "model.add(Dense(10, activation='softmax'))\n",
        "\n",
        "model.compile(optimizer=Adam(),loss='categorical_crossentropy', metrics='accuracy')\n",
        "print(model.summary())"
      ],
      "metadata": {
        "colab": {
          "base_uri": "https://localhost:8080/"
        },
        "id": "YZTGnuOfurP3",
        "outputId": "1186ddaf-1d8a-47c8-8412-869d585350ed"
      },
      "execution_count": null,
      "outputs": [
        {
          "output_type": "stream",
          "name": "stdout",
          "text": [
            "Model: \"sequential\"\n",
            "_________________________________________________________________\n",
            " Layer (type)                Output Shape              Param #   \n",
            "=================================================================\n",
            " dense (Dense)               (None, 800)               628000    \n",
            "                                                                 \n",
            " dense_1 (Dense)             (None, 400)               320400    \n",
            "                                                                 \n",
            " dense_2 (Dense)             (None, 10)                4010      \n",
            "                                                                 \n",
            "=================================================================\n",
            "Total params: 952410 (3.63 MB)\n",
            "Trainable params: 952410 (3.63 MB)\n",
            "Non-trainable params: 0 (0.00 Byte)\n",
            "_________________________________________________________________\n",
            "None\n"
          ]
        }
      ]
    },
    {
      "cell_type": "code",
      "source": [
        "model.fit(xtr, ytr, batch_size=128, epochs=15, verbose=1)"
      ],
      "metadata": {
        "colab": {
          "base_uri": "https://localhost:8080/"
        },
        "id": "t3mNbVtovA_Y",
        "outputId": "32820def-b05f-4ef2-b8be-f3b26726372b"
      },
      "execution_count": null,
      "outputs": [
        {
          "output_type": "stream",
          "name": "stdout",
          "text": [
            "Epoch 1/15\n",
            "469/469 [==============================] - 7s 3ms/step - loss: 0.2078 - accuracy: 0.9378\n",
            "Epoch 2/15\n",
            "469/469 [==============================] - 2s 3ms/step - loss: 0.0777 - accuracy: 0.9761\n",
            "Epoch 3/15\n",
            "469/469 [==============================] - 2s 3ms/step - loss: 0.0482 - accuracy: 0.9844\n",
            "Epoch 4/15\n",
            "469/469 [==============================] - 2s 3ms/step - loss: 0.0347 - accuracy: 0.9883\n",
            "Epoch 5/15\n",
            "469/469 [==============================] - 2s 4ms/step - loss: 0.0270 - accuracy: 0.9909\n",
            "Epoch 6/15\n",
            "469/469 [==============================] - 2s 5ms/step - loss: 0.0206 - accuracy: 0.9935\n",
            "Epoch 7/15\n",
            "469/469 [==============================] - 2s 3ms/step - loss: 0.0189 - accuracy: 0.9938\n",
            "Epoch 8/15\n",
            "469/469 [==============================] - 2s 3ms/step - loss: 0.0168 - accuracy: 0.9945\n",
            "Epoch 9/15\n",
            "469/469 [==============================] - 2s 3ms/step - loss: 0.0113 - accuracy: 0.9964\n",
            "Epoch 10/15\n",
            "469/469 [==============================] - 2s 3ms/step - loss: 0.0145 - accuracy: 0.9955\n",
            "Epoch 11/15\n",
            "469/469 [==============================] - 2s 3ms/step - loss: 0.0136 - accuracy: 0.9957\n",
            "Epoch 12/15\n",
            "469/469 [==============================] - 2s 3ms/step - loss: 0.0110 - accuracy: 0.9964\n",
            "Epoch 13/15\n",
            "469/469 [==============================] - 2s 4ms/step - loss: 0.0115 - accuracy: 0.9965\n",
            "Epoch 14/15\n",
            "469/469 [==============================] - 2s 4ms/step - loss: 0.0073 - accuracy: 0.9975\n",
            "Epoch 15/15\n",
            "469/469 [==============================] - 2s 3ms/step - loss: 0.0103 - accuracy: 0.9969\n"
          ]
        },
        {
          "output_type": "execute_result",
          "data": {
            "text/plain": [
              "<keras.src.callbacks.History at 0x792c6a895660>"
            ]
          },
          "metadata": {},
          "execution_count": 9
        }
      ]
    },
    {
      "cell_type": "code",
      "source": [
        "model.save_weights('model_weights.h5')"
      ],
      "metadata": {
        "id": "UPgA9cFnvSE2"
      },
      "execution_count": null,
      "outputs": []
    },
    {
      "cell_type": "code",
      "source": [
        "model.save('model.h5')"
      ],
      "metadata": {
        "colab": {
          "base_uri": "https://localhost:8080/"
        },
        "id": "55u7DgTMwen-",
        "outputId": "b2b01e42-34ed-4201-c04a-5021fcc5a0ec"
      },
      "execution_count": null,
      "outputs": [
        {
          "output_type": "stream",
          "name": "stderr",
          "text": [
            "/usr/local/lib/python3.10/dist-packages/keras/src/engine/training.py:3000: UserWarning: You are saving your model as an HDF5 file via `model.save()`. This file format is considered legacy. We recommend using instead the native Keras format, e.g. `model.save('my_model.keras')`.\n",
            "  saving_api.save_model(\n"
          ]
        }
      ]
    },
    {
      "cell_type": "code",
      "source": [
        "from tensorflow.keras.models import load_model"
      ],
      "metadata": {
        "id": "ENz88CkSvXP1"
      },
      "execution_count": null,
      "outputs": []
    },
    {
      "cell_type": "code",
      "source": [
        "model = load_model('model.h5')\n",
        "model.load_weights('model_weights.h5')"
      ],
      "metadata": {
        "id": "3iModyLIv41u"
      },
      "execution_count": null,
      "outputs": []
    },
    {
      "cell_type": "code",
      "source": [
        "from google.colab import drive\n",
        "drive.mount('/content/drive')"
      ],
      "metadata": {
        "colab": {
          "base_uri": "https://localhost:8080/"
        },
        "id": "iUljWDaS0-3H",
        "outputId": "9caf0d74-031d-4c0c-9e88-e86c8b499d06"
      },
      "execution_count": null,
      "outputs": [
        {
          "output_type": "stream",
          "name": "stdout",
          "text": [
            "Mounted at /content/drive\n"
          ]
        }
      ]
    },
    {
      "cell_type": "code",
      "source": [
        "import gdown\n",
        "gdown.download('https://drive.google.com/uc?id=1mdAgcVm0yLyppx2-EOMipZqJBODLsgt5', None, quiet=True)"
      ],
      "metadata": {
        "colab": {
          "base_uri": "https://localhost:8080/",
          "height": 35
        },
        "id": "maHQ-3-Ow4Rl",
        "outputId": "cf4146bc-4292-4046-8f24-0dffed68d4d5"
      },
      "execution_count": null,
      "outputs": [
        {
          "output_type": "execute_result",
          "data": {
            "text/plain": [
              "'test_nums.zip'"
            ],
            "application/vnd.google.colaboratory.intrinsic+json": {
              "type": "string"
            }
          },
          "metadata": {},
          "execution_count": 19
        }
      ]
    },
    {
      "cell_type": "code",
      "source": [
        "!unzip -qo test_nums.zip"
      ],
      "metadata": {
        "id": "2-qn97a1Q8GK"
      },
      "execution_count": null,
      "outputs": []
    },
    {
      "cell_type": "code",
      "source": [
        "from PIL import Image"
      ],
      "metadata": {
        "id": "eC8M1XxFROcw"
      },
      "execution_count": null,
      "outputs": []
    },
    {
      "cell_type": "code",
      "source": [
        "img = Image.open('/content/7.png')\n",
        "display(img)"
      ],
      "metadata": {
        "id": "Ma4t7fsnRixV",
        "colab": {
          "base_uri": "https://localhost:8080/",
          "height": 170
        },
        "outputId": "81fda356-a3a2-4f54-8005-1001b2582dfb"
      },
      "execution_count": null,
      "outputs": [
        {
          "output_type": "display_data",
          "data": {
            "text/plain": [
              "<PIL.PngImagePlugin.PngImageFile image mode=RGBA size=183x153>"
            ],
            "image/png": "[encoded data removed]"
          },
          "metadata": {}
        }
      ]
    },
    {
      "cell_type": "code",
      "source": [
        "from PIL import Image, ImageChops\n",
        "import numpy as np\n",
        "from tensorflow.keras.models import load_model\n",
        "\n",
        "def predict(img_path='./test_image_1.jpg', model_path='./model.h5'):\n",
        "  classes = {0: 0,\n",
        "             1: 1,\n",
        "             2: 2,\n",
        "             3: 3,\n",
        "             4: 4,\n",
        "             5: 5,\n",
        "             6: 6,\n",
        "             7: 7,\n",
        "             8: 8,\n",
        "             9: 9}\n",
        "\n",
        "  model = load_model(model_path)\n",
        "\n",
        "  img_width, img_height = 28, 28\n",
        "\n",
        "  img = Image.open(img_path).convert('L').resize((img_width, img_height))\n",
        "  img = ImageChops.invert(img)\n",
        "  image = np.array(img, dtype='float64')\n",
        "\n",
        "  image = image.reshape(784)\n",
        "  image = np.expand_dims(image, axis=0)\n",
        "  image_class = np.argmax(model.predict(image))\n",
        "\n",
        "  print(image_class)"
      ],
      "metadata": {
        "id": "ofQIF7tpZ-Q0"
      },
      "execution_count": null,
      "outputs": []
    },
    {
      "cell_type": "code",
      "source": [
        "predict(img_path='/content/1.png', model_path='model.h5')"
      ],
      "metadata": {
        "colab": {
          "base_uri": "https://localhost:8080/"
        },
        "id": "ypBtulMQbpx2",
        "outputId": "1d1621c2-39ca-4d07-ae87-f9ceb068e978"
      },
      "execution_count": null,
      "outputs": [
        {
          "output_type": "stream",
          "name": "stdout",
          "text": [
            "1/1 [==============================] - 0s 48ms/step\n",
            "1\n"
          ]
        }
      ]
    },
    {
      "cell_type": "code",
      "source": [
        "text_code = '''\n",
        "\n",
        "from PIL import Image, ImageChops\n",
        "import numpy as np\n",
        "from tensorflow.keras.models import load_model\n",
        "\n",
        "def predict(img_path='./test_image_1.jpg', model_path='./model.h5'):\n",
        "  classes = {0: 0,\n",
        "             1: 1,\n",
        "             2: 2,\n",
        "             3: 3,\n",
        "             4: 4,\n",
        "             5: 5,\n",
        "             6: 6,\n",
        "             7: 7,\n",
        "             8: 8,\n",
        "             9: 9}\n",
        "\n",
        "  model = load_model(model_path)\n",
        "\n",
        "  img_width, img_height = 28, 28\n",
        "\n",
        "  img = Image.open(img_path).convert('L').resize((img_width, img_height))\n",
        "  img = ImageChops.invert(img)\n",
        "  image = np.array(img, dtype='float64')\n",
        "\n",
        "  image = image.reshape(784)\n",
        "  image = np.expand_dims(image, axis=0)\n",
        "  image_class = np.argmax(model.predict(image))\n",
        "\n",
        "  print(image_class)\n",
        "\n",
        "  '''\n",
        "\n",
        "with open('script.py', 'w') as f:\n",
        "  f.write(text_code.strip())"
      ],
      "metadata": {
        "id": "QD0dLfXXQf-i"
      },
      "execution_count": null,
      "outputs": []
    },
    {
      "cell_type": "code",
      "source": [
        "label_txt = '''\n",
        "\n",
        "1\n",
        "2\n",
        "3\n",
        "4\n",
        "5\n",
        "6\n",
        "7\n",
        "8\n",
        "9\n",
        "\n",
        "'''\n",
        "\n",
        "with open('label.txt', 'w') as f:\n",
        "  f.write(label_txt.strip())"
      ],
      "metadata": {
        "id": "b40havmKRFS1"
      },
      "execution_count": null,
      "outputs": []
    },
    {
      "cell_type": "code",
      "source": [
        "import os\n",
        "from zipfile import ZipFile as Zip\n",
        "\n",
        "list_of_files = ['model.h5', 'script.py', 'label.txt', *[f'{i}.png' for i in range(1,10)]]\n",
        "\n",
        "my_zip = Zip('/content/archive.zip', 'w')\n",
        "\n",
        "for file in list_of_files:\n",
        "  if os.path.exists(file):\n",
        "    my_zip.write(file)\n",
        "  else:\n",
        "    print(f'File {file} is absent')\n",
        "\n",
        "my_zip.close()"
      ],
      "metadata": {
        "id": "0W3EVLo7SjvX"
      },
      "execution_count": null,
      "outputs": []
    },
    {
      "cell_type": "code",
      "source": [
        "from google.colab import files\n",
        "\n",
        "files.download('archive.zip')\n",
        "\n",
        "print('Archive has been downloaded')"
      ],
      "metadata": {
        "colab": {
          "base_uri": "https://localhost:8080/",
          "height": 34
        },
        "id": "sWwCdnRVVERm",
        "outputId": "4f3a9444-d44a-4506-d101-72b43fcc4b7f"
      },
      "execution_count": null,
      "outputs": [
        {
          "output_type": "display_data",
          "data": {
            "text/plain": [
              "<IPython.core.display.Javascript object>"
            ],
            "application/javascript": [
              "\n",
              "    async function download(id, filename, size) {\n",
              "      if (!google.colab.kernel.accessAllowed) {\n",
              "        return;\n",
              "      }\n",
              "      const div = document.createElement('div');\n",
              "      const label = document.createElement('label');\n",
              "      label.textContent = `Downloading \"${filename}\": `;\n",
              "      div.appendChild(label);\n",
              "      const progress = document.createElement('progress');\n",
              "      progress.max = size;\n",
              "      div.appendChild(progress);\n",
              "      document.body.appendChild(div);\n",
              "\n",
              "      const buffers = [];\n",
              "      let downloaded = 0;\n",
              "\n",
              "      const channel = await google.colab.kernel.comms.open(id);\n",
              "      // Send a message to notify the kernel that we're ready.\n",
              "      channel.send({})\n",
              "\n",
              "      for await (const message of channel.messages) {\n",
              "        // Send a message to notify the kernel that we're ready.\n",
              "        channel.send({})\n",
              "        if (message.buffers) {\n",
              "          for (const buffer of message.buffers) {\n",
              "            buffers.push(buffer);\n",
              "            downloaded += buffer.byteLength;\n",
              "            progress.value = downloaded;\n",
              "          }\n",
              "        }\n",
              "      }\n",
              "      const blob = new Blob(buffers, {type: 'application/binary'});\n",
              "      const a = document.createElement('a');\n",
              "      a.href = window.URL.createObjectURL(blob);\n",
              "      a.download = filename;\n",
              "      div.appendChild(a);\n",
              "      a.click();\n",
              "      div.remove();\n",
              "    }\n",
              "  "
            ]
          },
          "metadata": {}
        },
        {
          "output_type": "display_data",
          "data": {
            "text/plain": [
              "<IPython.core.display.Javascript object>"
            ],
            "application/javascript": [
              "download(\"download_acdb3342-4577-414c-b0d8-b99ff93a10bb\", \"archive.zip\", 11479401)"
            ]
          },
          "metadata": {}
        },
        {
          "output_type": "stream",
          "name": "stdout",
          "text": [
            "Archive has been downloaded\n"
          ]
        }
      ]
    }
  ]
}